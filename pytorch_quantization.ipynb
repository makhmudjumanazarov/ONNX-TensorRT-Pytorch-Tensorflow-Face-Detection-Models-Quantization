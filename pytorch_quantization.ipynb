{
 "cells": [
  {
   "cell_type": "code",
   "execution_count": 11,
   "metadata": {},
   "outputs": [],
   "source": [
    "import torch \n",
    "from ultralytics import YOLO\n",
    "import os "
   ]
  },
  {
   "cell_type": "code",
   "execution_count": 28,
   "metadata": {},
   "outputs": [],
   "source": [
    "model = torch.load('/home/airi/yolo/ONNX-TensorRT-Pytorch-Tensorflow-Face-Detection-Models-Quantization/models/yolov8l.pt')"
   ]
  },
  {
   "cell_type": "code",
   "execution_count": 25,
   "metadata": {},
   "outputs": [],
   "source": [
    "def print_model_size(mdl):\n",
    "    torch.save(mdl['model'], \"tmp.pt\")\n",
    "    print(\"%.2f MB\" %(os.path.getsize(\"tmp.pt\")/1e6))\n",
    "    os.remove('tmp.pt')"
   ]
  },
  {
   "cell_type": "code",
   "execution_count": 26,
   "metadata": {},
   "outputs": [
    {
     "name": "stdout",
     "output_type": "stream",
     "text": [
      "87.61 MB\n"
     ]
    }
   ],
   "source": [
    "print_model_size(model)"
   ]
  },
  {
   "cell_type": "code",
   "execution_count": 27,
   "metadata": {},
   "outputs": [
    {
     "name": "stdout",
     "output_type": "stream",
     "text": [
      "Model have 304 layers with trainable parameters.\n",
      "Example first layer parameters:\n",
      "tensor([[ 0.0300,  0.0829, -0.1095],\n",
      "        [ 0.0609,  0.0059, -0.0840],\n",
      "        [-0.0634, -0.1497,  0.2061]], dtype=torch.float16)\n",
      "Type: torch.float16\n"
     ]
    }
   ],
   "source": [
    "Weights = []\n",
    "for i in model['model'].parameters():\n",
    "    Weights.append(i.data)\n",
    "print(f\"Model have {len(Weights)} layers with trainable parameters.\\nExample first layer parameters:\")\n",
    "print(Weights[0][0][0])\n",
    "print(\"Type:\", Weights[0][0][0].dtype)"
   ]
  },
  {
   "cell_type": "markdown",
   "metadata": {},
   "source": [
    "### Post Training Dynamic Quantization\n",
    "\n",
    "To apply Dynamic Quantization, which converts all the weights in a model from 32-bit floating numbers to 8-bit integers but doesn’t convert the activations to int8 till just before performing the computation on the activations, simply call torch.quantization.quantize_dynamic:"
   ]
  },
  {
   "cell_type": "code",
   "execution_count": 43,
   "metadata": {},
   "outputs": [],
   "source": [
    "from torch.quantization import quantize_dynamic\n",
    "import pickle"
   ]
  },
  {
   "cell_type": "code",
   "execution_count": 44,
   "metadata": {},
   "outputs": [],
   "source": [
    "model = torch.load('/home/airi/yolo/ONNX-TensorRT-Pytorch-Tensorflow-Face-Detection-Models-Quantization/models/yolov8l.pt')\n",
    "model['model'] = quantize_dynamic(model['model'].eval(), qconfig_spec={torch.nn.Linear}, dtype=torch.quint8, mapping=None, inplace=False)\n",
    "torch.save(model['model'], '/home/airi/yolo/ONNX-TensorRT-Pytorch-Tensorflow-Face-Detection-Models-Quantization/quant_models/yolov8l_int8.pt', pickle_module=pickle)"
   ]
  },
  {
   "cell_type": "code",
   "execution_count": 45,
   "metadata": {},
   "outputs": [],
   "source": [
    "model = torch.load('/home/airi/yolo/ONNX-TensorRT-Pytorch-Tensorflow-Face-Detection-Models-Quantization/quant_models/yolov8l_int8.pt')"
   ]
  },
  {
   "cell_type": "code",
   "execution_count": 46,
   "metadata": {},
   "outputs": [
    {
     "name": "stdout",
     "output_type": "stream",
     "text": [
      "Model have 304 layers with trainable parameters.\n",
      "Example first layer parameters:\n",
      "tensor([[ 0.0300,  0.0829, -0.1095],\n",
      "        [ 0.0609,  0.0059, -0.0840],\n",
      "        [-0.0634, -0.1497,  0.2061]], dtype=torch.float16)\n",
      "Type: torch.float16\n"
     ]
    }
   ],
   "source": [
    "Weights = []\n",
    "for i in model.parameters():\n",
    "    Weights.append(i.data)\n",
    "print(f\"Model have {len(Weights)} layers with trainable parameters.\\nExample first layer parameters:\")\n",
    "print(Weights[0][0][0])\n",
    "print(\"Type:\", Weights[0][0][0].dtype)"
   ]
  },
  {
   "cell_type": "markdown",
   "metadata": {},
   "source": [
    "### Post Training Static Quantization\n",
    "\n",
    "This method converts both the weights and the activations to 8-bit integers beforehand so there won’t be on-the-fly conversion on the activations during the inference, as the dynamic quantization does, hence improving the performance significantly."
   ]
  },
  {
   "cell_type": "code",
   "execution_count": 47,
   "metadata": {},
   "outputs": [],
   "source": [
    "model = torch.load('/home/airi/yolo/ONNX-TensorRT-Pytorch-Tensorflow-Face-Detection-Models-Quantization/models/yolov8l.pt')"
   ]
  },
  {
   "cell_type": "code",
   "execution_count": 48,
   "metadata": {},
   "outputs": [],
   "source": [
    "backend = \"qnnpack\"\n",
    "model['model'].qconfig = torch.quantization.get_default_qconfig(backend)\n",
    "torch.backends.quantized.engine = 'fbgemm'\n",
    "model_static_quantized = torch.quantization.prepare(model['model'], inplace=False)\n",
    "model_static_quantized = torch.quantization.convert(model_static_quantized, inplace=False)\n",
    "torch.save(model_static_quantized, '/home/airi/yolo/ONNX-TensorRT-Pytorch-Tensorflow-Face-Detection-Models-Quantization/quant_models/yolov8n_static_int8.pt', pickle_module=pickle)"
   ]
  },
  {
   "cell_type": "code",
   "execution_count": 57,
   "metadata": {},
   "outputs": [
    {
     "name": "stdout",
     "output_type": "stream",
     "text": [
      "Model have 194 layers with trainable parameters.\n",
      "Example first layer parameters:\n",
      "tensor(3.3926, dtype=torch.float16)\n",
      "Type: torch.float16\n"
     ]
    }
   ],
   "source": [
    "Weights = []\n",
    "for i in model_static_quantized.parameters():\n",
    "    Weights.append(i.data)\n",
    "print(f\"Model have {len(Weights)} layers with trainable parameters.\\nExample first layer parameters:\")\n",
    "print(Weights[0][0])\n",
    "print(\"Type:\", Weights[0][0].dtype)"
   ]
  },
  {
   "cell_type": "code",
   "execution_count": null,
   "metadata": {},
   "outputs": [],
   "source": []
  }
 ],
 "metadata": {
  "kernelspec": {
   "display_name": "mahmud",
   "language": "python",
   "name": "mahmud"
  },
  "language_info": {
   "codemirror_mode": {
    "name": "ipython",
    "version": 3
   },
   "file_extension": ".py",
   "mimetype": "text/x-python",
   "name": "python",
   "nbconvert_exporter": "python",
   "pygments_lexer": "ipython3",
   "version": "3.9.17"
  },
  "orig_nbformat": 4
 },
 "nbformat": 4,
 "nbformat_minor": 2
}
